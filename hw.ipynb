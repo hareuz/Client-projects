{
 "cells": [
  {
   "cell_type": "code",
   "execution_count": 1,
   "metadata": {},
   "outputs": [],
   "source": [
    "import pandas as pd\n"
   ]
  },
  {
   "cell_type": "code",
   "execution_count": 11,
   "metadata": {},
   "outputs": [],
   "source": [
    "data = pd.read_excel(\"HW2_data (1).xlsx\")"
   ]
  },
  {
   "cell_type": "code",
   "execution_count": 12,
   "metadata": {},
   "outputs": [
    {
     "data": {
      "text/html": [
       "<div>\n",
       "<style scoped>\n",
       "    .dataframe tbody tr th:only-of-type {\n",
       "        vertical-align: middle;\n",
       "    }\n",
       "\n",
       "    .dataframe tbody tr th {\n",
       "        vertical-align: top;\n",
       "    }\n",
       "\n",
       "    .dataframe thead th {\n",
       "        text-align: right;\n",
       "    }\n",
       "</style>\n",
       "<table border=\"1\" class=\"dataframe\">\n",
       "  <thead>\n",
       "    <tr style=\"text-align: right;\">\n",
       "      <th></th>\n",
       "      <th>date</th>\n",
       "      <th>S&amp;P500</th>\n",
       "      <th>BTC</th>\n",
       "    </tr>\n",
       "  </thead>\n",
       "  <tbody>\n",
       "    <tr>\n",
       "      <th>0</th>\n",
       "      <td>2014-11-28</td>\n",
       "      <td>0.027631</td>\n",
       "      <td>0.117421</td>\n",
       "    </tr>\n",
       "    <tr>\n",
       "      <th>1</th>\n",
       "      <td>2014-12-31</td>\n",
       "      <td>-0.002473</td>\n",
       "      <td>-0.153034</td>\n",
       "    </tr>\n",
       "    <tr>\n",
       "      <th>2</th>\n",
       "      <td>2015-01-30</td>\n",
       "      <td>-0.029430</td>\n",
       "      <td>-0.320835</td>\n",
       "    </tr>\n",
       "    <tr>\n",
       "      <th>3</th>\n",
       "      <td>2015-02-27</td>\n",
       "      <td>0.056976</td>\n",
       "      <td>0.169219</td>\n",
       "    </tr>\n",
       "    <tr>\n",
       "      <th>4</th>\n",
       "      <td>2015-03-31</td>\n",
       "      <td>-0.014993</td>\n",
       "      <td>-0.039483</td>\n",
       "    </tr>\n",
       "    <tr>\n",
       "      <th>...</th>\n",
       "      <td>...</td>\n",
       "      <td>...</td>\n",
       "      <td>...</td>\n",
       "    </tr>\n",
       "    <tr>\n",
       "      <th>93</th>\n",
       "      <td>2022-08-31</td>\n",
       "      <td>-0.040305</td>\n",
       "      <td>-0.140856</td>\n",
       "    </tr>\n",
       "    <tr>\n",
       "      <th>94</th>\n",
       "      <td>2022-09-30</td>\n",
       "      <td>-0.091495</td>\n",
       "      <td>-0.030822</td>\n",
       "    </tr>\n",
       "    <tr>\n",
       "      <th>95</th>\n",
       "      <td>2022-10-31</td>\n",
       "      <td>0.080248</td>\n",
       "      <td>0.054755</td>\n",
       "    </tr>\n",
       "    <tr>\n",
       "      <th>96</th>\n",
       "      <td>2022-11-30</td>\n",
       "      <td>0.054166</td>\n",
       "      <td>-0.162336</td>\n",
       "    </tr>\n",
       "    <tr>\n",
       "      <th>97</th>\n",
       "      <td>2022-12-30</td>\n",
       "      <td>-0.058784</td>\n",
       "      <td>-0.036175</td>\n",
       "    </tr>\n",
       "  </tbody>\n",
       "</table>\n",
       "<p>98 rows × 3 columns</p>\n",
       "</div>"
      ],
      "text/plain": [
       "         date    S&P500       BTC\n",
       "0  2014-11-28  0.027631  0.117421\n",
       "1  2014-12-31 -0.002473 -0.153034\n",
       "2  2015-01-30 -0.029430 -0.320835\n",
       "3  2015-02-27  0.056976  0.169219\n",
       "4  2015-03-31 -0.014993 -0.039483\n",
       "..        ...       ...       ...\n",
       "93 2022-08-31 -0.040305 -0.140856\n",
       "94 2022-09-30 -0.091495 -0.030822\n",
       "95 2022-10-31  0.080248  0.054755\n",
       "96 2022-11-30  0.054166 -0.162336\n",
       "97 2022-12-30 -0.058784 -0.036175\n",
       "\n",
       "[98 rows x 3 columns]"
      ]
     },
     "execution_count": 12,
     "metadata": {},
     "output_type": "execute_result"
    }
   ],
   "source": [
    "data"
   ]
  },
  {
   "cell_type": "code",
   "execution_count": 14,
   "metadata": {},
   "outputs": [
    {
     "data": {
      "text/plain": [
       "(0.93, 4.56, 6.42, 22.79)"
      ]
     },
     "execution_count": 14,
     "metadata": {},
     "output_type": "execute_result"
    }
   ],
   "source": [
    "#Question 1\n",
    "\n",
    "# Calculate the arithmetic mean and standard deviation for both S&P500 and BTC\n",
    "mean_sp500 = data['S&P500'].mean()\n",
    "std_sp500 = data['S&P500'].std()\n",
    "\n",
    "mean_btc = data['BTC'].mean()\n",
    "std_btc = data['BTC'].std()\n",
    "\n",
    "# Convert to percentage and round to 2 decimal places\n",
    "mean_sp500_perc = round(mean_sp500 * 100, 2)\n",
    "std_sp500_perc = round(std_sp500 * 100, 2)\n",
    "\n",
    "mean_btc_perc = round(mean_btc * 100, 2)\n",
    "std_btc_perc = round(std_btc * 100, 2)\n",
    "\n",
    "mean_sp500_perc, std_sp500_perc, mean_btc_perc, std_btc_perc\n"
   ]
  },
  {
   "cell_type": "code",
   "execution_count": 15,
   "metadata": {},
   "outputs": [
    {
     "data": {
      "text/plain": [
       "0.3331"
      ]
     },
     "execution_count": 15,
     "metadata": {},
     "output_type": "execute_result"
    }
   ],
   "source": [
    "#Question 2\n",
    "\n",
    "# Calculate the correlation between the monthly returns of S&P500 and BTC\n",
    "correlation = data['S&P500'].corr(data['BTC'])\n",
    "\n",
    "# Round to 4 decimal places\n",
    "correlation_rounded = round(correlation, 4)\n",
    "correlation_rounded\n"
   ]
  },
  {
   "cell_type": "code",
   "execution_count": 18,
   "metadata": {},
   "outputs": [
    {
     "data": {
      "text/plain": [
       "1.67"
      ]
     },
     "execution_count": 18,
     "metadata": {},
     "output_type": "execute_result"
    }
   ],
   "source": [
    "#Question 3\n",
    "\n",
    "# Calculate the covariance between BTC and S&P500\n",
    "covariance_btc_sp500 = data['BTC'].cov(data['S&P500'])\n",
    "\n",
    "# Calculate the variance of S&P500\n",
    "variance_sp500 = data['S&P500'].var()\n",
    "\n",
    "# Calculate the beta of BTC\n",
    "beta_btc = covariance_btc_sp500 / variance_sp500\n",
    "\n",
    "# Round to 2 decimal places\n",
    "beta_btc_rounded = round(beta_btc, 2)\n",
    "beta_btc_rounded\n"
   ]
  },
  {
   "cell_type": "code",
   "execution_count": 19,
   "metadata": {},
   "outputs": [
    {
     "data": {
      "text/plain": [
       "(97.5, 2.5)"
      ]
     },
     "execution_count": 19,
     "metadata": {},
     "output_type": "execute_result"
    }
   ],
   "source": [
    "#Question 4\n",
    "\n",
    "# Investment amounts\n",
    "investment_sp500 = 975000\n",
    "investment_btc = 25000\n",
    "\n",
    "# Total investment\n",
    "total_investment = investment_sp500 + investment_btc\n",
    "\n",
    "# Calculate weights\n",
    "weight_sp500 = (investment_sp500 / total_investment) * 100\n",
    "weight_btc = (investment_btc / total_investment) * 100\n",
    "\n",
    "# Round to 2 decimal places\n",
    "weight_sp500_rounded = round(weight_sp500, 2)\n",
    "weight_btc_rounded = round(weight_btc, 2)\n",
    "\n",
    "weight_sp500_rounded, weight_btc_rounded\n"
   ]
  },
  {
   "cell_type": "code",
   "execution_count": 20,
   "metadata": {},
   "outputs": [
    {
     "data": {
      "text/plain": [
       "(1.06, 4.66)"
      ]
     },
     "execution_count": 20,
     "metadata": {},
     "output_type": "execute_result"
    }
   ],
   "source": [
    "#Question 5\n",
    "\n",
    "# Calculate monthly portfolio returns\n",
    "portfolio_returns = (data['S&P500'] * weight_sp500_rounded / 100) + (data['BTC'] * weight_btc_rounded / 100)\n",
    "\n",
    "# Calculate the arithmetic mean of portfolio returns\n",
    "mean_portfolio_return = portfolio_returns.mean()\n",
    "\n",
    "# Calculate the standard deviation of portfolio returns\n",
    "std_portfolio_return = portfolio_returns.std()\n",
    "\n",
    "# Convert to percentage and round to 2 decimal places\n",
    "mean_portfolio_return_perc = round(mean_portfolio_return * 100, 2)\n",
    "std_portfolio_return_perc = round(std_portfolio_return * 100, 2)\n",
    "\n",
    "mean_portfolio_return_perc, std_portfolio_return_perc\n"
   ]
  },
  {
   "cell_type": "code",
   "execution_count": null,
   "metadata": {},
   "outputs": [],
   "source": []
  }
 ],
 "metadata": {
  "kernelspec": {
   "display_name": "Python 3",
   "language": "python",
   "name": "python3"
  },
  "language_info": {
   "codemirror_mode": {
    "name": "ipython",
    "version": 3
   },
   "file_extension": ".py",
   "mimetype": "text/x-python",
   "name": "python",
   "nbconvert_exporter": "python",
   "pygments_lexer": "ipython3",
   "version": "3.8.3"
  }
 },
 "nbformat": 4,
 "nbformat_minor": 2
}
